{
  "cells": [
    {
      "cell_type": "markdown",
      "metadata": {
        "id": "view-in-github",
        "colab_type": "text"
      },
      "source": [
        "<a href=\"https://colab.research.google.com/github/kimngan2809/AIproject/blob/main/RepresentationLearningSignatureVerification.ipynb\" target=\"_parent\"><img src=\"https://colab.research.google.com/assets/colab-badge.svg\" alt=\"Open In Colab\"/></a>"
      ]
    },
    {
      "cell_type": "markdown",
      "metadata": {
        "id": "tCBHGq1dvIZz"
      },
      "source": []
    },
    {
      "cell_type": "code",
      "source": [
        "from google.colab import drive\n",
        "drive.mount('/content/drive')"
      ],
      "metadata": {
        "colab": {
          "base_uri": "https://localhost:8080/"
        },
        "id": "NDe9U4PswUGG",
        "outputId": "3791e3a4-5dd2-44c1-8517-07d7571b1a2e"
      },
      "execution_count": null,
      "outputs": [
        {
          "output_type": "stream",
          "name": "stdout",
          "text": [
            "Drive already mounted at /content/drive; to attempt to forcibly remount, call drive.mount(\"/content/drive\", force_remount=True).\n"
          ]
        }
      ]
    },
    {
      "cell_type": "code",
      "source": [
        "import os\n",
        "cur_dir = '/content/drive/My Drive/Development/'\n",
        "os.chdir(cur_dir)\n",
        "!ls -la ."
      ],
      "metadata": {
        "colab": {
          "base_uri": "https://localhost:8080/"
        },
        "id": "yCBqOaNiwWqw",
        "outputId": "68d0b82a-784b-405a-c002-390739c937a1"
      },
      "execution_count": null,
      "outputs": [
        {
          "output_type": "stream",
          "name": "stdout",
          "text": [
            "ls: data_signature: No such file or directory\n",
            "total 98261\n",
            "-rw------- 1 root root      176 Sep 14 19:52 'Chỉnh data.gsheet'\n",
            "lrw------- 1 root root        0 Aug 26 19:33  data_signature -> /content/drive/.shortcut-targets-by-id/1cJqRJxTwR9rixYs3ooCqHD_jUojoGC9b/data_signature\n",
            "-rw------- 1 root root   664434 Sep 16 16:16 'DL Signature .ipynb'\n",
            "-rw------- 1 root root    11723 Sep 15 12:47  pre_prepared_data.ipynb\n",
            "-rw------- 1 root root    88209 Sep 23 09:08 'Preprocessing DL Signature .ipynb'\n",
            "-rw------- 1 root root    28510 Sep 30 18:04  RepresentationLearningSignatureVerification.ipynb\n",
            "drwx------ 2 root root     4096 Sep 30 18:04  saved_models\n",
            "drwx------ 2 root root     4096 Sep 24 10:29  signature_pairs\n",
            "drwx------ 2 root root     4096 Sep  8 01:58  sign_data\n",
            "drwx------ 4 root root     4096 Sep 30 16:20  sign_data_kaggle_modified\n",
            "-rw------- 1 root root     9797 Sep 24 15:27  Test.ipynb\n",
            "-rw------- 1 root root 44759990 Sep 24 14:17  test_model.pth\n",
            "-rw------- 1 root root   107389 Sep 24 10:30  Train_03.ipynb\n",
            "-rw------- 1 root root    11664 Sep 23 08:59  Train4.ipynb\n",
            "-rw------- 1 root root   119786 Sep 26 04:51  Train.ipynb\n",
            "-rw------- 1 root root 54798719 Sep 26 01:20  train_pairs.csv\n",
            "-rw------- 1 root root      176 Sep 23 04:07  train_pairs.gsheet\n"
          ]
        }
      ]
    },
    {
      "cell_type": "markdown",
      "metadata": {
        "id": "ZXnm8H_GE4mJ"
      },
      "source": [
        "**Loading Libraries**"
      ]
    },
    {
      "cell_type": "code",
      "execution_count": null,
      "metadata": {
        "id": "JqSRjq41h0_J"
      },
      "outputs": [],
      "source": [
        "import numpy as np\n",
        "import pandas as pd\n",
        "import matplotlib.pyplot as plt\n",
        "import tensorflow as tf\n",
        "from tensorflow.keras.preprocessing import image\n",
        "from tensorflow.keras.applications.vgg16 import preprocess_input\n",
        "from tensorflow.keras.preprocessing.image import ImageDataGenerator\n",
        "from sklearn.metrics.pairwise import cosine_similarity\n",
        "import os"
      ]
    },
    {
      "cell_type": "markdown",
      "metadata": {
        "id": "1UKyBhIaEvwN"
      },
      "source": [
        "**Image Loading and augumentations**"
      ]
    },
    {
      "cell_type": "markdown",
      "metadata": {
        "id": "Izg51n-XvIZ2"
      },
      "source": [
        "**Trained on a subset of data from [Kaggle Signature Dataset](https://www.kaggle.com/robinreni/signature-verification-dataset).** Took only 10 classes"
      ]
    },
    {
      "cell_type": "code",
      "execution_count": null,
      "metadata": {
        "colab": {
          "base_uri": "https://localhost:8080/"
        },
        "id": "iPtUCDF6nWkY",
        "outputId": "c13374c6-25b3-42ba-9828-56fc8e646919"
      },
      "outputs": [
        {
          "output_type": "stream",
          "name": "stdout",
          "text": [
            "Found 200 images belonging to 10 classes.\n",
            "Found 40 images belonging to 10 classes.\n"
          ]
        }
      ],
      "source": [
        "train_directory = cur_dir + 'sign_data_kaggle_modified/train'\n",
        "test_directory = cur_dir + 'sign_data_kaggle_modified/test'\n",
        "\n",
        "train_datagen = ImageDataGenerator(\n",
        "    rescale = 1./255,\n",
        "    rotation_range = 0.1,\n",
        "    width_shift_range = 0.2,\n",
        "    height_shift_range = 0.2,\n",
        "    shear_range = 0.1\n",
        ")\n",
        "\n",
        "train_generator = train_datagen.flow_from_directory(\n",
        "    train_directory,\n",
        "    target_size = (224, 224),\n",
        "    color_mode = 'rgb',\n",
        "    shuffle = True,\n",
        "    batch_size=32\n",
        "\n",
        ")\n",
        "\n",
        "\n",
        "test_datagen = ImageDataGenerator(\n",
        "    rescale = 1./255,\n",
        ")\n",
        "\n",
        "test_generator = test_datagen.flow_from_directory(\n",
        "    test_directory,\n",
        "    target_size = (224, 224),\n",
        "    color_mode = 'rgb',\n",
        "    shuffle = True,\n",
        "    batch_size=32\n",
        ")"
      ]
    },
    {
      "cell_type": "markdown",
      "metadata": {
        "id": "BJgoKBZivIZ3"
      },
      "source": [
        "**Import pretrained Models**"
      ]
    },
    {
      "cell_type": "code",
      "execution_count": null,
      "metadata": {
        "id": "PiQccxzJiWYe"
      },
      "outputs": [],
      "source": [
        "from tensorflow.keras.applications.vgg16 import VGG16\n",
        "from tensorflow.keras.applications.resnet50 import ResNet50\n",
        "\n",
        "vgg_basemodel = VGG16(include_top=True)\n",
        "resnet_basemodel = ResNet50(include_top=True)"
      ]
    },
    {
      "cell_type": "markdown",
      "metadata": {
        "id": "IfnD9xKZN-4X"
      },
      "source": [
        "**Defining Callbacks**"
      ]
    },
    {
      "cell_type": "code",
      "execution_count": null,
      "metadata": {
        "id": "IiNDFtMbx_-1"
      },
      "outputs": [],
      "source": [
        "from tensorflow.keras.callbacks import ReduceLROnPlateau, ModelCheckpoint, EarlyStopping\n",
        "\n",
        "early_stopping = EarlyStopping(monitor='val_loss', mode='min', verbose=1, patience=5)\n",
        "# lr_reduce = ReduceLROnPlateau(monitor='val_accuracy', factor=0.6, patience=8, verbose=1, mode='max', min_lr=5e-5)\n",
        "# checkpoint = ModelCheckpoint('vgg16_finetune.h15', monitor= 'val_accuracy', mode= 'max', save_best_only = True, verbose= 1)"
      ]
    },
    {
      "cell_type": "markdown",
      "metadata": {
        "id": "YpPUjvObOCsw"
      },
      "source": [
        "**VGG16 Feature extractor**  \n",
        "Removing the last layer and add a 10 class softmax layer (I took only 10 classes from the kaggle dataset, I recommend you to train it with the whole dataset for the best results)"
      ]
    },
    {
      "cell_type": "code",
      "execution_count": null,
      "metadata": {
        "id": "y-hABzJAlCGR",
        "colab": {
          "base_uri": "https://localhost:8080/"
        },
        "outputId": "1f18aef7-7f52-4879-e5c2-25c22202d3b8"
      },
      "outputs": [
        {
          "output_type": "stream",
          "name": "stdout",
          "text": [
            "Epoch 1/30\n",
            "\u001b[1m7/7\u001b[0m \u001b[32m━━━━━━━━━━━━━━━━━━━━\u001b[0m\u001b[37m\u001b[0m \u001b[1m34s\u001b[0m 4s/step - accuracy: 0.0571 - loss: 2.5966 - val_accuracy: 0.1000 - val_loss: 2.3725\n",
            "Epoch 2/30\n",
            "\u001b[1m7/7\u001b[0m \u001b[32m━━━━━━━━━━━━━━━━━━━━\u001b[0m\u001b[37m\u001b[0m \u001b[1m12s\u001b[0m 244ms/step - accuracy: 0.1023 - loss: 2.4562 - val_accuracy: 0.2750 - val_loss: 2.2949\n",
            "Epoch 3/30\n",
            "\u001b[1m7/7\u001b[0m \u001b[32m━━━━━━━━━━━━━━━━━━━━\u001b[0m\u001b[37m\u001b[0m \u001b[1m5s\u001b[0m 195ms/step - accuracy: 0.1761 - loss: 2.3580 - val_accuracy: 0.2000 - val_loss: 2.1464\n",
            "Epoch 4/30\n",
            "\u001b[1m7/7\u001b[0m \u001b[32m━━━━━━━━━━━━━━━━━━━━\u001b[0m\u001b[37m\u001b[0m \u001b[1m9s\u001b[0m 235ms/step - accuracy: 0.1958 - loss: 2.1832 - val_accuracy: 0.4500 - val_loss: 1.9437\n",
            "Epoch 5/30\n",
            "\u001b[1m7/7\u001b[0m \u001b[32m━━━━━━━━━━━━━━━━━━━━\u001b[0m\u001b[37m\u001b[0m \u001b[1m5s\u001b[0m 197ms/step - accuracy: 0.3256 - loss: 1.9699 - val_accuracy: 0.5000 - val_loss: 1.8076\n",
            "Epoch 6/30\n",
            "\u001b[1m7/7\u001b[0m \u001b[32m━━━━━━━━━━━━━━━━━━━━\u001b[0m\u001b[37m\u001b[0m \u001b[1m4s\u001b[0m 190ms/step - accuracy: 0.4058 - loss: 1.8941 - val_accuracy: 0.6000 - val_loss: 1.6820\n",
            "Epoch 7/30\n",
            "\u001b[1m7/7\u001b[0m \u001b[32m━━━━━━━━━━━━━━━━━━━━\u001b[0m\u001b[37m\u001b[0m \u001b[1m4s\u001b[0m 209ms/step - accuracy: 0.4014 - loss: 1.8250 - val_accuracy: 0.4750 - val_loss: 1.6129\n",
            "Epoch 8/30\n",
            "\u001b[1m7/7\u001b[0m \u001b[32m━━━━━━━━━━━━━━━━━━━━\u001b[0m\u001b[37m\u001b[0m \u001b[1m6s\u001b[0m 200ms/step - accuracy: 0.4272 - loss: 1.7072 - val_accuracy: 0.7500 - val_loss: 1.4357\n",
            "Epoch 9/30\n",
            "\u001b[1m7/7\u001b[0m \u001b[32m━━━━━━━━━━━━━━━━━━━━\u001b[0m\u001b[37m\u001b[0m \u001b[1m5s\u001b[0m 212ms/step - accuracy: 0.6184 - loss: 1.5426 - val_accuracy: 0.9750 - val_loss: 1.2891\n",
            "Epoch 10/30\n",
            "\u001b[1m7/7\u001b[0m \u001b[32m━━━━━━━━━━━━━━━━━━━━\u001b[0m\u001b[37m\u001b[0m \u001b[1m5s\u001b[0m 240ms/step - accuracy: 0.7590 - loss: 1.4483 - val_accuracy: 0.9250 - val_loss: 1.2162\n",
            "Epoch 11/30\n",
            "\u001b[1m7/7\u001b[0m \u001b[32m━━━━━━━━━━━━━━━━━━━━\u001b[0m\u001b[37m\u001b[0m \u001b[1m5s\u001b[0m 249ms/step - accuracy: 0.7296 - loss: 1.4591 - val_accuracy: 0.9500 - val_loss: 1.1639\n",
            "Epoch 12/30\n",
            "\u001b[1m7/7\u001b[0m \u001b[32m━━━━━━━━━━━━━━━━━━━━\u001b[0m\u001b[37m\u001b[0m \u001b[1m4s\u001b[0m 198ms/step - accuracy: 0.8208 - loss: 1.2991 - val_accuracy: 0.7750 - val_loss: 1.0880\n",
            "Epoch 13/30\n",
            "\u001b[1m7/7\u001b[0m \u001b[32m━━━━━━━━━━━━━━━━━━━━\u001b[0m\u001b[37m\u001b[0m \u001b[1m6s\u001b[0m 231ms/step - accuracy: 0.8148 - loss: 1.2058 - val_accuracy: 0.9750 - val_loss: 0.9949\n",
            "Epoch 14/30\n",
            "\u001b[1m7/7\u001b[0m \u001b[32m━━━━━━━━━━━━━━━━━━━━\u001b[0m\u001b[37m\u001b[0m \u001b[1m4s\u001b[0m 196ms/step - accuracy: 0.8490 - loss: 1.1531 - val_accuracy: 0.9000 - val_loss: 0.9388\n",
            "Epoch 15/30\n",
            "\u001b[1m7/7\u001b[0m \u001b[32m━━━━━━━━━━━━━━━━━━━━\u001b[0m\u001b[37m\u001b[0m \u001b[1m5s\u001b[0m 230ms/step - accuracy: 0.9314 - loss: 1.0757 - val_accuracy: 0.9250 - val_loss: 0.9114\n",
            "Epoch 16/30\n",
            "\u001b[1m7/7\u001b[0m \u001b[32m━━━━━━━━━━━━━━━━━━━━\u001b[0m\u001b[37m\u001b[0m \u001b[1m6s\u001b[0m 196ms/step - accuracy: 0.8537 - loss: 1.0731 - val_accuracy: 1.0000 - val_loss: 0.8356\n",
            "Epoch 17/30\n",
            "\u001b[1m7/7\u001b[0m \u001b[32m━━━━━━━━━━━━━━━━━━━━\u001b[0m\u001b[37m\u001b[0m \u001b[1m4s\u001b[0m 194ms/step - accuracy: 0.9670 - loss: 0.9555 - val_accuracy: 0.9500 - val_loss: 0.7851\n",
            "Epoch 18/30\n",
            "\u001b[1m7/7\u001b[0m \u001b[32m━━━━━━━━━━━━━━━━━━━━\u001b[0m\u001b[37m\u001b[0m \u001b[1m6s\u001b[0m 235ms/step - accuracy: 0.9009 - loss: 0.9531 - val_accuracy: 1.0000 - val_loss: 0.7256\n",
            "Epoch 19/30\n",
            "\u001b[1m7/7\u001b[0m \u001b[32m━━━━━━━━━━━━━━━━━━━━\u001b[0m\u001b[37m\u001b[0m \u001b[1m5s\u001b[0m 189ms/step - accuracy: 0.9380 - loss: 0.8748 - val_accuracy: 1.0000 - val_loss: 0.6918\n",
            "Epoch 20/30\n",
            "\u001b[1m7/7\u001b[0m \u001b[32m━━━━━━━━━━━━━━━━━━━━\u001b[0m\u001b[37m\u001b[0m \u001b[1m5s\u001b[0m 196ms/step - accuracy: 0.8788 - loss: 0.9002 - val_accuracy: 1.0000 - val_loss: 0.6606\n",
            "Epoch 21/30\n",
            "\u001b[1m7/7\u001b[0m \u001b[32m━━━━━━━━━━━━━━━━━━━━\u001b[0m\u001b[37m\u001b[0m \u001b[1m5s\u001b[0m 196ms/step - accuracy: 0.9491 - loss: 0.7805 - val_accuracy: 1.0000 - val_loss: 0.6302\n",
            "Epoch 22/30\n",
            "\u001b[1m7/7\u001b[0m \u001b[32m━━━━━━━━━━━━━━━━━━━━\u001b[0m\u001b[37m\u001b[0m \u001b[1m9s\u001b[0m 219ms/step - accuracy: 0.9085 - loss: 0.7929 - val_accuracy: 0.9500 - val_loss: 0.6098\n",
            "Epoch 23/30\n",
            "\u001b[1m7/7\u001b[0m \u001b[32m━━━━━━━━━━━━━━━━━━━━\u001b[0m\u001b[37m\u001b[0m \u001b[1m6s\u001b[0m 231ms/step - accuracy: 0.9192 - loss: 0.7624 - val_accuracy: 1.0000 - val_loss: 0.5996\n",
            "Epoch 24/30\n",
            "\u001b[1m7/7\u001b[0m \u001b[32m━━━━━━━━━━━━━━━━━━━━\u001b[0m\u001b[37m\u001b[0m \u001b[1m9s\u001b[0m 233ms/step - accuracy: 0.9732 - loss: 0.6954 - val_accuracy: 1.0000 - val_loss: 0.5498\n",
            "Epoch 25/30\n",
            "\u001b[1m7/7\u001b[0m \u001b[32m━━━━━━━━━━━━━━━━━━━━\u001b[0m\u001b[37m\u001b[0m \u001b[1m5s\u001b[0m 200ms/step - accuracy: 0.9506 - loss: 0.6907 - val_accuracy: 1.0000 - val_loss: 0.5448\n",
            "Epoch 26/30\n",
            "\u001b[1m7/7\u001b[0m \u001b[32m━━━━━━━━━━━━━━━━━━━━\u001b[0m\u001b[37m\u001b[0m \u001b[1m4s\u001b[0m 193ms/step - accuracy: 0.9816 - loss: 0.6414 - val_accuracy: 1.0000 - val_loss: 0.4971\n",
            "Epoch 27/30\n",
            "\u001b[1m7/7\u001b[0m \u001b[32m━━━━━━━━━━━━━━━━━━━━\u001b[0m\u001b[37m\u001b[0m \u001b[1m6s\u001b[0m 238ms/step - accuracy: 0.9562 - loss: 0.6535 - val_accuracy: 1.0000 - val_loss: 0.4772\n",
            "Epoch 28/30\n",
            "\u001b[1m7/7\u001b[0m \u001b[32m━━━━━━━━━━━━━━━━━━━━\u001b[0m\u001b[37m\u001b[0m \u001b[1m4s\u001b[0m 196ms/step - accuracy: 0.9975 - loss: 0.5485 - val_accuracy: 1.0000 - val_loss: 0.4717\n",
            "Epoch 29/30\n",
            "\u001b[1m7/7\u001b[0m \u001b[32m━━━━━━━━━━━━━━━━━━━━\u001b[0m\u001b[37m\u001b[0m \u001b[1m4s\u001b[0m 196ms/step - accuracy: 0.9813 - loss: 0.5902 - val_accuracy: 0.9500 - val_loss: 0.4612\n",
            "Epoch 30/30\n",
            "\u001b[1m7/7\u001b[0m \u001b[32m━━━━━━━━━━━━━━━━━━━━\u001b[0m\u001b[37m\u001b[0m \u001b[1m5s\u001b[0m 208ms/step - accuracy: 0.9877 - loss: 0.5760 - val_accuracy: 1.0000 - val_loss: 0.4169\n",
            "Epoch 1/30\n",
            "\u001b[1m7/7\u001b[0m \u001b[32m━━━━━━━━━━━━━━━━━━━━\u001b[0m\u001b[37m\u001b[0m \u001b[1m28s\u001b[0m 4s/step - accuracy: 0.9878 - loss: 0.4738 - val_accuracy: 1.0000 - val_loss: 0.2778\n",
            "Epoch 2/30\n",
            "\u001b[1m7/7\u001b[0m \u001b[32m━━━━━━━━━━━━━━━━━━━━\u001b[0m\u001b[37m\u001b[0m \u001b[1m21s\u001b[0m 521ms/step - accuracy: 0.9963 - loss: 0.2915 - val_accuracy: 1.0000 - val_loss: 0.1183\n",
            "Epoch 3/30\n",
            "\u001b[1m7/7\u001b[0m \u001b[32m━━━━━━━━━━━━━━━━━━━━\u001b[0m\u001b[37m\u001b[0m \u001b[1m8s\u001b[0m 518ms/step - accuracy: 0.9891 - loss: 0.1600 - val_accuracy: 1.0000 - val_loss: 0.0709\n",
            "Epoch 4/30\n",
            "\u001b[1m7/7\u001b[0m \u001b[32m━━━━━━━━━━━━━━━━━━━━\u001b[0m\u001b[37m\u001b[0m \u001b[1m7s\u001b[0m 563ms/step - accuracy: 0.9928 - loss: 0.1002 - val_accuracy: 1.0000 - val_loss: 0.0495\n",
            "Epoch 5/30\n",
            "\u001b[1m7/7\u001b[0m \u001b[32m━━━━━━━━━━━━━━━━━━━━\u001b[0m\u001b[37m\u001b[0m \u001b[1m10s\u001b[0m 531ms/step - accuracy: 1.0000 - loss: 0.0641 - val_accuracy: 1.0000 - val_loss: 0.0301\n",
            "Epoch 6/30\n",
            "\u001b[1m7/7\u001b[0m \u001b[32m━━━━━━━━━━━━━━━━━━━━\u001b[0m\u001b[37m\u001b[0m \u001b[1m10s\u001b[0m 598ms/step - accuracy: 1.0000 - loss: 0.0419 - val_accuracy: 1.0000 - val_loss: 0.0210\n",
            "Epoch 7/30\n",
            "\u001b[1m7/7\u001b[0m \u001b[32m━━━━━━━━━━━━━━━━━━━━\u001b[0m\u001b[37m\u001b[0m \u001b[1m11s\u001b[0m 542ms/step - accuracy: 1.0000 - loss: 0.0329 - val_accuracy: 1.0000 - val_loss: 0.0175\n",
            "Epoch 8/30\n",
            "\u001b[1m7/7\u001b[0m \u001b[32m━━━━━━━━━━━━━━━━━━━━\u001b[0m\u001b[37m\u001b[0m \u001b[1m7s\u001b[0m 578ms/step - accuracy: 1.0000 - loss: 0.0221 - val_accuracy: 1.0000 - val_loss: 0.0135\n",
            "Epoch 9/30\n",
            "\u001b[1m7/7\u001b[0m \u001b[32m━━━━━━━━━━━━━━━━━━━━\u001b[0m\u001b[37m\u001b[0m \u001b[1m8s\u001b[0m 572ms/step - accuracy: 1.0000 - loss: 0.0240 - val_accuracy: 1.0000 - val_loss: 0.0107\n",
            "Epoch 10/30\n",
            "\u001b[1m7/7\u001b[0m \u001b[32m━━━━━━━━━━━━━━━━━━━━\u001b[0m\u001b[37m\u001b[0m \u001b[1m7s\u001b[0m 535ms/step - accuracy: 1.0000 - loss: 0.0199 - val_accuracy: 1.0000 - val_loss: 0.0097\n",
            "Epoch 11/30\n",
            "\u001b[1m7/7\u001b[0m \u001b[32m━━━━━━━━━━━━━━━━━━━━\u001b[0m\u001b[37m\u001b[0m \u001b[1m10s\u001b[0m 525ms/step - accuracy: 1.0000 - loss: 0.0158 - val_accuracy: 1.0000 - val_loss: 0.0085\n",
            "Epoch 12/30\n",
            "\u001b[1m7/7\u001b[0m \u001b[32m━━━━━━━━━━━━━━━━━━━━\u001b[0m\u001b[37m\u001b[0m \u001b[1m10s\u001b[0m 515ms/step - accuracy: 1.0000 - loss: 0.0140 - val_accuracy: 1.0000 - val_loss: 0.0076\n",
            "Epoch 13/30\n",
            "\u001b[1m7/7\u001b[0m \u001b[32m━━━━━━━━━━━━━━━━━━━━\u001b[0m\u001b[37m\u001b[0m \u001b[1m7s\u001b[0m 527ms/step - accuracy: 1.0000 - loss: 0.0187 - val_accuracy: 1.0000 - val_loss: 0.0068\n",
            "Epoch 14/30\n",
            "\u001b[1m7/7\u001b[0m \u001b[32m━━━━━━━━━━━━━━━━━━━━\u001b[0m\u001b[37m\u001b[0m \u001b[1m10s\u001b[0m 531ms/step - accuracy: 1.0000 - loss: 0.0136 - val_accuracy: 1.0000 - val_loss: 0.0065\n",
            "Epoch 15/30\n",
            "\u001b[1m7/7\u001b[0m \u001b[32m━━━━━━━━━━━━━━━━━━━━\u001b[0m\u001b[37m\u001b[0m \u001b[1m10s\u001b[0m 527ms/step - accuracy: 1.0000 - loss: 0.0115 - val_accuracy: 1.0000 - val_loss: 0.0064\n",
            "Epoch 16/30\n",
            "\u001b[1m7/7\u001b[0m \u001b[32m━━━━━━━━━━━━━━━━━━━━\u001b[0m\u001b[37m\u001b[0m \u001b[1m10s\u001b[0m 524ms/step - accuracy: 1.0000 - loss: 0.0109 - val_accuracy: 1.0000 - val_loss: 0.0067\n",
            "Epoch 17/30\n",
            "\u001b[1m7/7\u001b[0m \u001b[32m━━━━━━━━━━━━━━━━━━━━\u001b[0m\u001b[37m\u001b[0m \u001b[1m12s\u001b[0m 523ms/step - accuracy: 1.0000 - loss: 0.0129 - val_accuracy: 1.0000 - val_loss: 0.0057\n",
            "Epoch 18/30\n",
            "\u001b[1m7/7\u001b[0m \u001b[32m━━━━━━━━━━━━━━━━━━━━\u001b[0m\u001b[37m\u001b[0m \u001b[1m7s\u001b[0m 578ms/step - accuracy: 1.0000 - loss: 0.0105 - val_accuracy: 1.0000 - val_loss: 0.0045\n",
            "Epoch 19/30\n",
            "\u001b[1m7/7\u001b[0m \u001b[32m━━━━━━━━━━━━━━━━━━━━\u001b[0m\u001b[37m\u001b[0m \u001b[1m10s\u001b[0m 509ms/step - accuracy: 1.0000 - loss: 0.0081 - val_accuracy: 1.0000 - val_loss: 0.0041\n",
            "Epoch 20/30\n",
            "\u001b[1m7/7\u001b[0m \u001b[32m━━━━━━━━━━━━━━━━━━━━\u001b[0m\u001b[37m\u001b[0m \u001b[1m11s\u001b[0m 504ms/step - accuracy: 1.0000 - loss: 0.0088 - val_accuracy: 1.0000 - val_loss: 0.0041\n",
            "Epoch 21/30\n",
            "\u001b[1m7/7\u001b[0m \u001b[32m━━━━━━━━━━━━━━━━━━━━\u001b[0m\u001b[37m\u001b[0m \u001b[1m11s\u001b[0m 506ms/step - accuracy: 1.0000 - loss: 0.0078 - val_accuracy: 1.0000 - val_loss: 0.0042\n",
            "Epoch 22/30\n",
            "\u001b[1m7/7\u001b[0m \u001b[32m━━━━━━━━━━━━━━━━━━━━\u001b[0m\u001b[37m\u001b[0m \u001b[1m9s\u001b[0m 518ms/step - accuracy: 1.0000 - loss: 0.0078 - val_accuracy: 1.0000 - val_loss: 0.0042\n",
            "Epoch 23/30\n",
            "\u001b[1m7/7\u001b[0m \u001b[32m━━━━━━━━━━━━━━━━━━━━\u001b[0m\u001b[37m\u001b[0m \u001b[1m7s\u001b[0m 513ms/step - accuracy: 1.0000 - loss: 0.0072 - val_accuracy: 1.0000 - val_loss: 0.0039\n",
            "Epoch 24/30\n",
            "\u001b[1m7/7\u001b[0m \u001b[32m━━━━━━━━━━━━━━━━━━━━\u001b[0m\u001b[37m\u001b[0m \u001b[1m7s\u001b[0m 532ms/step - accuracy: 1.0000 - loss: 0.0076 - val_accuracy: 1.0000 - val_loss: 0.0037\n",
            "Epoch 25/30\n",
            "\u001b[1m7/7\u001b[0m \u001b[32m━━━━━━━━━━━━━━━━━━━━\u001b[0m\u001b[37m\u001b[0m \u001b[1m10s\u001b[0m 520ms/step - accuracy: 1.0000 - loss: 0.0062 - val_accuracy: 1.0000 - val_loss: 0.0034\n",
            "Epoch 26/30\n",
            "\u001b[1m7/7\u001b[0m \u001b[32m━━━━━━━━━━━━━━━━━━━━\u001b[0m\u001b[37m\u001b[0m \u001b[1m8s\u001b[0m 511ms/step - accuracy: 1.0000 - loss: 0.0057 - val_accuracy: 1.0000 - val_loss: 0.0031\n",
            "Epoch 27/30\n",
            "\u001b[1m7/7\u001b[0m \u001b[32m━━━━━━━━━━━━━━━━━━━━\u001b[0m\u001b[37m\u001b[0m \u001b[1m9s\u001b[0m 544ms/step - accuracy: 1.0000 - loss: 0.0061 - val_accuracy: 1.0000 - val_loss: 0.0030\n",
            "Epoch 28/30\n",
            "\u001b[1m7/7\u001b[0m \u001b[32m━━━━━━━━━━━━━━━━━━━━\u001b[0m\u001b[37m\u001b[0m \u001b[1m7s\u001b[0m 504ms/step - accuracy: 1.0000 - loss: 0.0053 - val_accuracy: 1.0000 - val_loss: 0.0036\n",
            "Epoch 29/30\n",
            "\u001b[1m7/7\u001b[0m \u001b[32m━━━━━━━━━━━━━━━━━━━━\u001b[0m\u001b[37m\u001b[0m \u001b[1m7s\u001b[0m 510ms/step - accuracy: 1.0000 - loss: 0.0058 - val_accuracy: 1.0000 - val_loss: 0.0031\n",
            "Epoch 30/30\n",
            "\u001b[1m7/7\u001b[0m \u001b[32m━━━━━━━━━━━━━━━━━━━━\u001b[0m\u001b[37m\u001b[0m \u001b[1m7s\u001b[0m 503ms/step - accuracy: 1.0000 - loss: 0.0057 - val_accuracy: 1.0000 - val_loss: 0.0025\n"
          ]
        }
      ],
      "source": [
        "vgg_model = tf.keras.Sequential(vgg_basemodel.layers[:-1])\n",
        "vgg_model.add(tf.keras.layers.Dense(10, activation = 'softmax'))\n",
        "\n",
        "# Freezing original layers\n",
        "for layer in vgg_model.layers[:-1]:\n",
        "    layer.trainable = False\n",
        "\n",
        "vgg_model.compile(loss='categorical_crossentropy',\n",
        "                  optimizer=tf.keras.optimizers.SGD(momentum=0.9, learning_rate=0.001, decay=0.01),\n",
        "                  metrics=['accuracy'])\n",
        "\n",
        "history = vgg_model.fit(train_generator,\n",
        "              epochs=30,\n",
        "              batch_size=64,\n",
        "              validation_data=test_generator,\n",
        "              callbacks=[early_stopping])\n",
        "\n",
        "# finetuning with all layers set trainable\n",
        "\n",
        "for layer in vgg_model.layers:\n",
        "    layer.trainable = True\n",
        "\n",
        "vgg_model.compile(loss='categorical_crossentropy',\n",
        "                  optimizer=tf.keras.optimizers.SGD(momentum=0.9, learning_rate=0.0001),\n",
        "                  metrics=['accuracy'])\n",
        "\n",
        "history2 = vgg_model.fit(train_generator,\n",
        "              epochs=30,\n",
        "              batch_size=64,\n",
        "              validation_data=test_generator,\n",
        "              callbacks=[early_stopping])\n",
        "\n"
      ]
    },
    {
      "cell_type": "code",
      "source": [
        "vgg_model.save(cur_dir + 'saved_models/vgg16_finetuned_model.h5')"
      ],
      "metadata": {
        "colab": {
          "base_uri": "https://localhost:8080/",
          "height": 141
        },
        "id": "iXamz-fozxFK",
        "outputId": "43387fdb-d592-4539-9a23-37d624c4ff3c"
      },
      "execution_count": null,
      "outputs": [
        {
          "output_type": "error",
          "ename": "NameError",
          "evalue": "name 'vgg_model' is not defined",
          "traceback": [
            "\u001b[0;31m---------------------------------------------------------------------------\u001b[0m",
            "\u001b[0;31mNameError\u001b[0m                                 Traceback (most recent call last)",
            "\u001b[0;32m<ipython-input-11-6557a4cb4e87>\u001b[0m in \u001b[0;36m<cell line: 1>\u001b[0;34m()\u001b[0m\n\u001b[0;32m----> 1\u001b[0;31m \u001b[0mvgg_model\u001b[0m\u001b[0;34m.\u001b[0m\u001b[0msave\u001b[0m\u001b[0;34m(\u001b[0m\u001b[0mcur_dir\u001b[0m \u001b[0;34m+\u001b[0m \u001b[0;34m'saved_models/vgg16_finetuned_model.h5'\u001b[0m\u001b[0;34m)\u001b[0m\u001b[0;34m\u001b[0m\u001b[0;34m\u001b[0m\u001b[0m\n\u001b[0m",
            "\u001b[0;31mNameError\u001b[0m: name 'vgg_model' is not defined"
          ]
        }
      ]
    },
    {
      "cell_type": "markdown",
      "metadata": {
        "id": "Pn39SeIA3cuf"
      },
      "source": [
        "**ResNet50 Feature extractor**  \n",
        "The paper describes to use the output of second last convolutional layer of ResNet50 as a feature extractor. But didn't used the ResNet as I was getting good results with using VGG16 alone. I recommend you to try out this."
      ]
    },
    {
      "cell_type": "code",
      "execution_count": null,
      "metadata": {
        "id": "HytUL0KB4bGF"
      },
      "outputs": [],
      "source": [
        "resnet_basemodel.summary()"
      ]
    },
    {
      "cell_type": "code",
      "execution_count": null,
      "metadata": {
        "id": "SOuEcJhy4BME"
      },
      "outputs": [],
      "source": [
        "# from tensorflow.python.keras.layers import Lambda;\n",
        "\n",
        "# def lambda_layer(layers):\n",
        "\n",
        "#     fc2_norm = K.l2_normalize(fc2, axis = 3);\n",
        "#     illum_est = tf.reduce_sum(fc2_norm, axis = (1, 2));\n",
        "#     illum_est = K.l2_normalize(illum_est);\n",
        "\n",
        "#     return illum_est;\n",
        "\n",
        "# illum_est = Lambda(norm)(fc2);\n",
        "\n",
        "\n",
        "# input = resnet_basemodel.input\n",
        "# x = tf.keras.layers.Flatten()(resnet_basemodel.get_layer('conv5_block3_2_conv').output)\n",
        "# output = tf.keras.layers.Dense(10, activation='softmax')\n",
        "\n",
        "# resnet_model = tf.keras.Model(inputs=[input], outputs=[output])"
      ]
    },
    {
      "cell_type": "code",
      "execution_count": null,
      "metadata": {
        "id": "2lmaafUS7vCy"
      },
      "outputs": [],
      "source": [
        "# resnet_model = tf.keras.Sequential(resnet_basemodel.layers[:-1])"
      ]
    },
    {
      "cell_type": "code",
      "execution_count": null,
      "metadata": {
        "id": "1kf9PmczzbnY"
      },
      "outputs": [],
      "source": [
        "# resnet_model = tf.keras.Sequential(resnet_basemodel.layers[-9])\n",
        "# resnet_model.add(tf.keras.layers.Flatten())\n",
        "# resnet_model.add(tf.keras.layers.Dense(10, activation = 'softmax'))\n",
        "\n",
        "# for layer in resnet_model.layers[:-9]:\n",
        "#     layer.trainable = False\n",
        "\n",
        "# resnet_model.compile(loss='categorical_crossentropy',\n",
        "#                   optimizer=tf.keras.optimizers.SGD(momentum=0.9, lr=0.001, decay=0.01),\n",
        "#                   metrics=['accuracy'])\n",
        "\n",
        "# history = resnet_model.fit(train_generator,\n",
        "#               epochs=30,\n",
        "#               batch_size=32,\n",
        "#               validation_data=test_generator,\n",
        "#               callbacks=[early_stopping])\n",
        "\n",
        "# # finetuning with all layers set trainable\n",
        "\n",
        "# for layer in resnet_model.layers:\n",
        "#     layer.trainable = True\n",
        "\n",
        "# resnet_model.compile(loss='categorical_crossentropy',\n",
        "#                   optimizer=tf.keras.optimizers.SGD(momentum=0.9, lr=0.0001),\n",
        "#                   metrics=['accuracy'])\n",
        "\n",
        "# history2 = resnet_model.fit(train_generator,\n",
        "#               epochs=5,\n",
        "#               batch_size=64,\n",
        "#               validation_data=test_generator,\n",
        "#               callbacks=[early_stopping])\n",
        "\n",
        "# resnet_model.save('saved_models/resnet_finetuned_model')"
      ]
    },
    {
      "cell_type": "markdown",
      "metadata": {
        "id": "akOAF658FYkS"
      },
      "source": [
        "**Loading Finetuned Model & Feature Extraction**  \n",
        "[[1]](https://arxiv.org/abs/2004.12104) paper uses the output from the first fully connected layer of the VGG16 as the features for finding cosine similarity."
      ]
    },
    {
      "cell_type": "code",
      "execution_count": null,
      "metadata": {
        "id": "YmGFZ8273O8p",
        "colab": {
          "base_uri": "https://localhost:8080/"
        },
        "outputId": "32c0b502-fe93-45cc-ba3a-6c3a9c9ea5bf"
      },
      "outputs": [
        {
          "output_type": "stream",
          "name": "stderr",
          "text": [
            "WARNING:absl:Compiled the loaded model, but the compiled metrics have yet to be built. `model.compile_metrics` will be empty until you train or evaluate the model.\n"
          ]
        }
      ],
      "source": [
        "# resnet_model = tf.keras.Sequential(resnet_basemodel.layers[-9])\n",
        "# resnet_model.add(tf.keras.layers.Flatten())\n",
        "# resnet_model.add(tf.keras.layers.Dense(10, activation = 'softmax'))\n",
        "vgg_model = tf.keras.models.load_model(cur_dir + 'saved_models/vgg_finetuned_model.h5')\n",
        "feature_extractor = tf.keras.Sequential(vgg_model.layers[:-1])"
      ]
    },
    {
      "cell_type": "code",
      "source": [
        "print(vgg_model)"
      ],
      "metadata": {
        "colab": {
          "base_uri": "https://localhost:8080/"
        },
        "id": "1IVRTTkT0IrP",
        "outputId": "ec3534c9-86af-4db8-9f93-1b0f076005ab"
      },
      "execution_count": null,
      "outputs": [
        {
          "output_type": "stream",
          "name": "stdout",
          "text": [
            "<Sequential name=sequential_1, built=True>\n"
          ]
        }
      ]
    }
  ],
  "metadata": {
    "colab": {
      "provenance": [],
      "gpuType": "T4",
      "include_colab_link": true
    },
    "kernelspec": {
      "display_name": "Python 3",
      "name": "python3"
    },
    "language_info": {
      "codemirror_mode": {
        "name": "ipython",
        "version": 3
      },
      "file_extension": ".py",
      "mimetype": "text/x-python",
      "name": "python",
      "nbconvert_exporter": "python",
      "pygments_lexer": "ipython3",
      "version": "3.8.3"
    },
    "accelerator": "GPU"
  },
  "nbformat": 4,
  "nbformat_minor": 0
}